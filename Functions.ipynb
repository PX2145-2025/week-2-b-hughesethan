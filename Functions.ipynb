{
  "cells": [
    {
      "cell_type": "markdown",
      "metadata": {
        "id": "view-in-github",
        "colab_type": "text"
      },
      "source": [
        "<a href=\"https://colab.research.google.com/github/PX2145-2025/week-2-b-hughesethan/blob/main/Functions.ipynb\" target=\"_parent\"><img src=\"https://colab.research.google.com/assets/colab-badge.svg\" alt=\"Open In Colab\"/></a>"
      ]
    },
    {
      "cell_type": "markdown",
      "metadata": {
        "id": "wcYzdesOG2DB"
      },
      "source": [
        "# Feedback for week 1 and other and hints\n",
        "\n",
        "We are working with [Jupyter notebooks](https://jupyter.org/). You can either run those in the [Google Colab](https://colab.research.google.com/notebooks/intro.ipynb) environment, or on your own computer with [Anaconda3](https://www.anaconda.com/distribution/#download-section).\n",
        "\n",
        "1. Be careful about your environment remembering variables. Make sure your code works in a new _clean_ environment. In Colab: `Runtime`->`restart Runtime`, in Anaconda's Jupyter: `Kernel`->`Restart`.\n",
        "2. Graphs without labels (or units when appropriate) are not worth any point.\n",
        "4. If you are using `loadtxt()` to read in from a file where the numbers are separated by commas, you need to use the keyword `delimiter=','`.\n",
        "5. If you are asked to plot a function (for example $y = x^2$ in question 2 last week, or the 2D function of question 3) you will need to think for yourself the best way to do this - deciding the number of points and the range of values etc.\n",
        "6. Always explore the options of Python functions using the in-built help or refer to https://docs.scipy.org/ and https://www.python.org/doc/.\n",
        "\n",
        "For this week we will need the following imports:"
      ]
    },
    {
      "cell_type": "code",
      "execution_count": 36,
      "metadata": {
        "id": "3C4LDHUkG2DC"
      },
      "outputs": [],
      "source": [
        "from numpy import array,sqrt,pi,sin"
      ]
    },
    {
      "cell_type": "markdown",
      "metadata": {
        "id": "RLIIkmraG2DG"
      },
      "source": [
        "# Introduction\n",
        "\n",
        "In this worksheet we’ll introduce Python functions. Functions are important in any programming language since they enable code to be simply re-used in a program (and other programs). They also help break up complex problems into simpler pieces and therefore make the code simpler and clearer.\n",
        "Functions are most easily understood by example:\n",
        "## Simple functions\n",
        "Run the following code:"
      ]
    },
    {
      "cell_type": "code",
      "execution_count": null,
      "metadata": {
        "colab": {
          "base_uri": "https://localhost:8080/"
        },
        "id": "AbUJtLHMG2DH",
        "outputId": "47b9daab-f34b-4eff-91f3-5df8f771f452"
      },
      "outputs": [
        {
          "output_type": "stream",
          "name": "stdout",
          "text": [
            "Cube of 3.1 is 29.791000000000004\n",
            "Cube of 3.1 is 29.791000000000004\n",
            "Cube of 1.3 is 2.1970000000000005\n"
          ]
        }
      ],
      "source": [
        "def cube(x):\n",
        "    \"\"\"\n",
        "    Return the cube of x\n",
        "    >>> cube(3)\n",
        "    27\n",
        "    \"\"\"\n",
        "    return x * x * x\n",
        "\n",
        "x = 3.1\n",
        "print('Cube of', x, 'is', cube(x))\n",
        "'''\n",
        "Of course, we don't have to use the same variable name 'x'. This is\n",
        "a 'dummy variable' in the function.\n",
        "'''\n",
        "y = 3.1\n",
        "print('Cube of', y, 'is', cube(y))\n",
        "\n",
        "print('Cube of', 1.3, 'is', cube(1.3))"
      ]
    },
    {
      "cell_type": "markdown",
      "metadata": {
        "id": "amaQagttG2DL"
      },
      "source": [
        "The keyword `def` marks the start of the definition of a function. This is followed by the name of the function and any parameters that are to be passed into the function. The keyword `return` is used if the function needs to return parameters. Not all functions will need to do this - they might just perform a series of actions. For example:"
      ]
    },
    {
      "cell_type": "code",
      "execution_count": null,
      "metadata": {
        "colab": {
          "base_uri": "https://localhost:8080/"
        },
        "id": "tnzUNcKTG2DM",
        "outputId": "aed0dfb6-5334-4af1-a16f-99694a25323d"
      },
      "outputs": [
        {
          "output_type": "stream",
          "name": "stdout",
          "text": [
            "Cube of 3 is 27\n"
          ]
        }
      ],
      "source": [
        "# Define a simple function ...\n",
        "def print_cube(x):\n",
        "    \"\"\"\n",
        "    Prints the cube of x\n",
        "    >>> print_cube(3)\n",
        "    Cube of 3 is 27\n",
        "    \"\"\"\n",
        "    print ('Cube of', x, 'is', x * x * x)\n",
        "\n",
        "print_cube(3)"
      ]
    },
    {
      "cell_type": "markdown",
      "metadata": {
        "id": "DsU6dZZzG2DO"
      },
      "source": [
        "What do you expect the following code snippet will print out?"
      ]
    },
    {
      "cell_type": "code",
      "execution_count": null,
      "metadata": {
        "colab": {
          "base_uri": "https://localhost:8080/"
        },
        "id": "-tS7arGDG2DP",
        "outputId": "3335dc5c-5ddd-4eb5-c0f3-f20b9762e725"
      },
      "outputs": [
        {
          "output_type": "stream",
          "name": "stdout",
          "text": [
            "Original value 2\n",
            "After function call 2\n"
          ]
        }
      ],
      "source": [
        "# Define a simple function ...\n",
        "def quad(x):\n",
        "    \"\"\"\n",
        "    Return the fourth power of x\n",
        "    >>> quad(3)\n",
        "    81\n",
        "    \"\"\"\n",
        "    x = x**4\n",
        "    return x\n",
        "\n",
        "x = 2\n",
        "print('Original value', x)\n",
        "quad(x)\n",
        "print('After function call', x)"
      ]
    },
    {
      "cell_type": "markdown",
      "metadata": {
        "id": "F2eRolK7G2DU"
      },
      "source": [
        "**Note**: the functions above have a short string describing what they do, and give an example of how to use them. Writing the function documation that way in `python` has two advanges. First, it will get picked up by built-in help systems, and second it can get run automatically by software that check the health of the code. We are using such a software, [doctest](https://docs.python.org/3/library/doctest.html#module-doctest), in this classroom setup. So in this latest example, `doctest` tries to run `quad(3)` and checks if the answer is indeed `81`. There are such tests included in the exercises. Don't remove them, they are here to help you iterate over the right solution.\n",
        "\n",
        "Functions can be rather flexible in how they work. For example, we can define a simple function which is a linear function of an input variable x, and it will work for both a simple variable or an array:"
      ]
    },
    {
      "cell_type": "code",
      "execution_count": null,
      "metadata": {
        "colab": {
          "base_uri": "https://localhost:8080/"
        },
        "id": "9BS0CzDNG2DV",
        "outputId": "496d50c7-7023-48e2-8f92-df573ec3a389"
      },
      "outputs": [
        {
          "output_type": "stream",
          "name": "stdout",
          "text": [
            "Cube of 3 is 27\n",
            "3.4\n"
          ]
        }
      ],
      "source": [
        "# Define a simple function ...\n",
        "def print_cube(x):\n",
        "    \"\"\"\n",
        "    Prints the cube of x\n",
        "    >>> print_cube(3)\n",
        "    Cube of 3 is 27\n",
        "    \"\"\"\n",
        "    print('Cube of', x, 'is', x * x * x)\n",
        "\n",
        "print_cube(3)\n",
        "\n",
        "# Define a less simple function ...\n",
        "def linear(x, m, c):\n",
        "    '''\n",
        "    This returns a linear function of a variable x\n",
        "    '''\n",
        "    return m*x + c\n",
        "\n",
        "x = 1.2\n",
        "y = linear(x, 2, 1)\n",
        "print(y)"
      ]
    },
    {
      "cell_type": "code",
      "execution_count": null,
      "metadata": {
        "colab": {
          "base_uri": "https://localhost:8080/"
        },
        "id": "pLb4X8k3G2DX",
        "outputId": "7c782e33-06f2-4335-9180-74faae5bf290"
      },
      "outputs": [
        {
          "output_type": "stream",
          "name": "stdout",
          "text": [
            "[ 1.  3.  5.  7.  9. 11. 13. 15.]\n"
          ]
        }
      ],
      "source": [
        "# Create a data array ...\n",
        "x = array([ 0.0, 1.0, 2.0, 3.0, 4.0, 5.0, 6.0, 7.0 ])\n",
        "y = linear(x, 2, 1)\n",
        "print(y)"
      ]
    },
    {
      "cell_type": "markdown",
      "metadata": {
        "id": "BPxpC6iJG2Da"
      },
      "source": [
        "## More about functions\n",
        "Sometimes, there can be lots of variables that remain the same when calling a function. If that’s the case you can simplify the syntax a bit. For example, let’s write a function to find how long it takes a mass to hit the ground when dropped (from rest) from a height h. The function will look like:"
      ]
    },
    {
      "cell_type": "code",
      "execution_count": null,
      "metadata": {
        "id": "Zhs4BHHCG2Da"
      },
      "outputs": [],
      "source": [
        "def T(h, g):\n",
        "    '''\n",
        "    Returns fall time [s] of a mass released from a height\n",
        "    h [m] above the Earth's surface. g in ms^-2.\n",
        "    '''\n",
        "    return sqrt(2*h/g)"
      ]
    },
    {
      "cell_type": "markdown",
      "metadata": {
        "id": "eiKjxDt-G2Dc"
      },
      "source": [
        "This is called as follows:"
      ]
    },
    {
      "cell_type": "code",
      "execution_count": null,
      "metadata": {
        "colab": {
          "base_uri": "https://localhost:8080/"
        },
        "id": "jUWeQGAgG2Dd",
        "outputId": "94ed51e4-2b08-4886-9ac8-93d7b8e1ffe3"
      },
      "outputs": [
        {
          "output_type": "stream",
          "name": "stdout",
          "text": [
            "Time from 1 metre is 0.4517539514526256 s\n"
          ]
        }
      ],
      "source": [
        "height = 1  # metre\n",
        "print ('Time from', height, 'metre', 'is' , T(height, 9.8),'s')"
      ]
    },
    {
      "cell_type": "markdown",
      "metadata": {
        "id": "pM_SOHN6G2Df"
      },
      "source": [
        "You *could* program this with a hard-coded value for g, to make the function call simpler:"
      ]
    },
    {
      "cell_type": "code",
      "execution_count": null,
      "metadata": {
        "colab": {
          "base_uri": "https://localhost:8080/"
        },
        "id": "dyxgqYqKG2Df",
        "outputId": "99f1b549-9a3f-4ca0-a8f6-b89b91e732ec"
      },
      "outputs": [
        {
          "output_type": "stream",
          "name": "stdout",
          "text": [
            "Time from 1 metre is 0.4515236409857309 s\n"
          ]
        }
      ],
      "source": [
        "def T(h):\n",
        "    '''\n",
        "    Returns fall time [s] of a mass released from a height\n",
        "    h [m] above the Earth's surface.\n",
        "    '''\n",
        "    g=9.81 # in ms^-2\n",
        "    return sqrt(2*h/g)\n",
        "\n",
        "height = 1 # metre\n",
        "print ('Time from', height, 'metre', 'is' , T(height),'s')"
      ]
    },
    {
      "cell_type": "markdown",
      "metadata": {
        "id": "qc7y9fojG2Dk"
      },
      "source": [
        "but then of course it wouldn’t work for Mars’ gravity. A better way is"
      ]
    },
    {
      "cell_type": "code",
      "execution_count": null,
      "metadata": {
        "colab": {
          "base_uri": "https://localhost:8080/",
          "height": 51
        },
        "id": "Fm2wr1XyG2Dk",
        "outputId": "d04d053d-471a-4e85-bd62-9feb2e5950d3"
      },
      "outputs": [
        {
          "name": "stdout",
          "output_type": "stream",
          "text": [
            "Time from 1 metre on Earth is 0.4515236409857309 s\n",
            "Time from 1 metre on Mars is 0.7352146220938077 s\n"
          ]
        }
      ],
      "source": [
        "def T(h, g=9.81):\n",
        "    '''\n",
        "    Returns fall time [s] of a mass released from a height\n",
        "    h [m] above a planet's surface. Default g is 9.81 ms^-2\n",
        "    '''\n",
        "    return sqrt(2*h/g)\n",
        "\n",
        "height = 1  # metre\n",
        "print('Time from', height, 'metre', 'on Earth is' , T(height),'s')\n",
        "print('Time from', height, 'metre', 'on Mars is' , T(height, g=3.7),'s')"
      ]
    },
    {
      "cell_type": "code",
      "execution_count": null,
      "metadata": {
        "id": "hNQuDA_UjCjU",
        "outputId": "3c171a5b-f2c0-4d3e-a54a-4ed91c616fec"
      },
      "outputs": [
        {
          "name": "stdout",
          "output_type": "stream",
          "text": [
            "Time from 1 metre on Earth is 0.4515236409857309 s\n",
            "Time from 2 metre on Earth is 0.638550856814101 s\n",
            "Time from 5 metre on Earth is 1.0096375546923044 s\n",
            "Time from 10 metre on Earth is 1.4278431229270645 s\n"
          ]
        }
      ],
      "source": [
        "for height in [1,2,5,10]:\n",
        "    print('Time from', height, 'metre', 'on Earth is' , T(height),'s')"
      ]
    },
    {
      "cell_type": "markdown",
      "metadata": {
        "id": "OcYE3uDWG2Dm"
      },
      "source": [
        "You can easily extend this to any number of variables. **IMPORTANT**: remember, documentation is part of the code. You should always add a description of a function, especially its inputs and outputs.\n",
        "## Formatting - a reminder\n",
        "You’ll often want to control the number of significant figures that you print out, or use scientific rather than floating point representation of numbers. Remember that you can achieve this in the following ways for example:"
      ]
    },
    {
      "cell_type": "code",
      "execution_count": null,
      "metadata": {
        "colab": {
          "base_uri": "https://localhost:8080/",
          "height": 68
        },
        "id": "NIdPD-snG2Dn",
        "outputId": "8085a744-7c77-418e-eb5c-aaf24cce043f"
      },
      "outputs": [
        {
          "name": "stdout",
          "output_type": "stream",
          "text": [
            "pi is approximately 3.142.\n",
            "pi is approximately 3.142.\n",
            "8.7 75.90 661.2316\n"
          ]
        }
      ],
      "source": [
        "# recommended method\n",
        "print('pi is approximately {0:.3f}.'.format(pi))\n",
        "# old method you'll see in some code\n",
        "print('pi is approximately %5.3f.' % pi)\n",
        "# the new method is quite powerful ...\n",
        "x = 8.712\n",
        "print('{0:3.1f} {1:3.2f} {2:3.4f}'.format(x, x*x, x*x*x))"
      ]
    },
    {
      "cell_type": "markdown",
      "metadata": {
        "id": "tWtA6Nr9G2Dq"
      },
      "source": [
        "## Packages and functions\n",
        "You’ve already used functions before of course, if not defined them. Some of these functions can be imported by default at the start of your program. But to import extra functions that are not available we have to use something like:"
      ]
    },
    {
      "cell_type": "code",
      "execution_count": null,
      "metadata": {
        "id": "lXpVdGTAG2Dr"
      },
      "outputs": [],
      "source": [
        "from scipy import integrate"
      ]
    },
    {
      "cell_type": "markdown",
      "metadata": {
        "id": "m41_kAklG2Du"
      },
      "source": [
        "You saw this used when doing numerical integration in PX1224 last year. It’s often convenient to save your own functions in ‘packages’ (or ‘modules’) for future use. This way, if you develop lots of useful functions you have them simply available.\n",
        "\n",
        "Let’s test this out. We will save the following python code in a file called `px2134.py`:\n",
        "\n",
        "```python\n",
        "# A test of writing a simple package.\n",
        "# Define a simple function ...\n",
        "def mycube(x):\n",
        "    return x * x * x\n",
        "```\n",
        "\n",
        "The cell below is saving this code to the `px2134.py` file. In this class we will do this within the notebook to keep all in the same place. But in general one can simply create this `.py` file, (called a _python script_) with any editor one likes (you have used Spyder last year)."
      ]
    },
    {
      "cell_type": "code",
      "execution_count": 64,
      "metadata": {
        "colab": {
          "base_uri": "https://localhost:8080/"
        },
        "id": "DzHtsLmcjCjV",
        "outputId": "843ae3ac-0a03-421a-d099-60c96e4eba39"
      },
      "outputs": [
        {
          "output_type": "stream",
          "name": "stdout",
          "text": [
            "Writing px2134.py\n"
          ]
        }
      ],
      "source": [
        "%%writefile px2134.py\n",
        "\n",
        "# A test of writing a simple package.\"\n",
        "# Define a simple function ...\"\n",
        "def mycube(x):\n",
        "    return x * x * x\n"
      ]
    },
    {
      "cell_type": "markdown",
      "metadata": {
        "id": "61jkBamaKcxL"
      },
      "source": [
        "You can test out the code like this:"
      ]
    },
    {
      "cell_type": "code",
      "execution_count": 65,
      "metadata": {
        "colab": {
          "base_uri": "https://localhost:8080/"
        },
        "id": "wJJuLLtrG2Du",
        "outputId": "57bb4cd8-357b-4d0f-fb8a-9af62781ea31"
      },
      "outputs": [
        {
          "output_type": "stream",
          "name": "stdout",
          "text": [
            "Cube of 3.1 is 29.791000000000004\n"
          ]
        }
      ],
      "source": [
        "from px2134 import *\n",
        "x = 3.1\n",
        "print ('Cube of', x, 'is', mycube(x))"
      ]
    },
    {
      "cell_type": "markdown",
      "metadata": {
        "id": "e4SvOSt1G2Dw"
      },
      "source": [
        "Generally, it’s better not to import everything in one go, which is what the syntax `from <some_package import> *` does. It’s nicer to know (i) what you are importing and (ii) where it comes from, especially if you are importing several modules. The better syntax to employ is:"
      ]
    },
    {
      "cell_type": "code",
      "execution_count": null,
      "metadata": {
        "colab": {
          "base_uri": "https://localhost:8080/"
        },
        "id": "b3ZUtAloG2Dw",
        "outputId": "113a2d0c-49ab-49a9-ae5d-a5f1f8c742a2"
      },
      "outputs": [
        {
          "output_type": "stream",
          "name": "stdout",
          "text": [
            "27\n"
          ]
        }
      ],
      "source": [
        "from px2134 import mycube # Imports just this function\n",
        "print (cube(3))\n",
        "from math import log, exp # Imports several functions"
      ]
    },
    {
      "cell_type": "markdown",
      "metadata": {
        "id": "ltztnJFHG2D0"
      },
      "source": [
        "Often, you will see packages imported like this:"
      ]
    },
    {
      "cell_type": "code",
      "execution_count": null,
      "metadata": {
        "colab": {
          "base_uri": "https://localhost:8080/",
          "height": 34
        },
        "id": "qcGCvifnG2D0",
        "outputId": "42f4943f-beb5-40b6-f31b-39fcf3b7e5b9"
      },
      "outputs": [
        {
          "name": "stdout",
          "output_type": "stream",
          "text": [
            "27\n"
          ]
        }
      ],
      "source": [
        "import px2134 # Imports the package itself\n",
        "print (px2134.mycube(3)) # But functions then need to be called like this"
      ]
    },
    {
      "cell_type": "markdown",
      "metadata": {
        "id": "CRr9-bzAG2D2"
      },
      "source": [
        "You can make it a bit nicer by having a name of your choice when importing:"
      ]
    },
    {
      "cell_type": "code",
      "execution_count": null,
      "metadata": {
        "colab": {
          "base_uri": "https://localhost:8080/",
          "height": 34
        },
        "id": "t09udDr5G2D2",
        "outputId": "6fff707c-ba65-46c9-e757-24219edfc5cf"
      },
      "outputs": [
        {
          "name": "stdout",
          "output_type": "stream",
          "text": [
            "27\n"
          ]
        }
      ],
      "source": [
        "import px2134 as px # Imports the package\n",
        "print (px.mycube(3)) # Functions called like this"
      ]
    },
    {
      "cell_type": "markdown",
      "metadata": {
        "id": "Z9PJ7ZvCG2D4"
      },
      "source": [
        "Large packages are often split into smaller sub-packages, called modules. A module within a larger package is referred to as `packagename.modulename`. There are many useful mathematical facilities available in the numpy package - e.g. linear algebra and Fourier transform modules. Thus the linear algebra module is called `numpy.linalg` and the (fast) Fourier transform module is called `numpy.fft`. We can import a function from a module like this:"
      ]
    },
    {
      "cell_type": "code",
      "execution_count": null,
      "metadata": {
        "id": "QYZSzW-zG2D5"
      },
      "outputs": [],
      "source": [
        "from numpy.linalg import inv"
      ]
    },
    {
      "cell_type": "markdown",
      "metadata": {
        "caption": "function diagrams",
        "id": "_CWMKP7GG2D7",
        "label": "fig:functions",
        "widefigure": true
      },
      "source": [
        "## Thinking about functions\n",
        "When functions are new to you it is easy to fall into the trap of using them poorly. You should always keep in mind that functions are for simplifying programs by providing a *re-usable* piece of code. They therefore MUST be self-contained and have a well-defined user interface – that is, they will normally input data of a particular form and output data (or perform a defined action) of a particular form, *independent of the rest of the program*.\n",
        "This is illustrated in the sketches below. Functions that a user might want to call a great many time in a row won't include `print` or `plot` statements. A function is regarded as a “black box” taking in data and giving out data. This is what the `sin` function does for example and what our `cube` function did.\n",
        "![Figure 1: function diagrams](https://raw.githubusercontent.com/PX2134/images/master/week2/functions.001.png \"Figure 1: function diagrams.\")"
      ]
    },
    {
      "cell_type": "markdown",
      "metadata": {
        "id": "xQa2kzbzG2D7"
      },
      "source": [
        "# Exercises\n",
        "This must be marked before you leave the lab. Mark weighting is in brackets.\n",
        "**Save your work to GitHub after having run all cells with `Runtime` -> `Restart and run all`. And do not change the notebook's filename.** Do add comments to your code, you'll lose points if your code is hard to understand. Graphs without labels (or units when appropriate) are not worth any point.\n",
        "\n",
        "## Exercise 0\n",
        "[0] Write a function `convert(angle)` to convert angles in degrees to radians. Write another function `recenter(angle)` to wrap angles in radian into the $(-\\pi,\\pi]$ interval. Save those two functions into a file named `anglesutils.py`.\n",
        "\n",
        "A centrifuge's loading position at $t=0\\,\\text{s}$ is $45^\\circ$ degrees, and start accelerating at $\\alpha=2^{\\circ}\\,\\text{s}^{-2}$. So it's position in degrees is given as a function of time (in seconds) by:\n",
        "\n",
        "$$\n",
        "position(t)=45+\\frac{1}{2}\\,2\\,t^2\n",
        "$$\n",
        "\n",
        "Use the `anglesutils` module you just created to plot that function from $t=0\\,\\text{s}$ to $t=30\\,\\text{s}$ in radian in the $(-\\pi,\\pi]$ interval.\n",
        "\n",
        "(this exercise is for demonstration purposes and won't be marked)"
      ]
    },
    {
      "cell_type": "code",
      "execution_count": null,
      "metadata": {
        "id": "aiM5FaNkjCjW"
      },
      "outputs": [],
      "source": []
    },
    {
      "cell_type": "markdown",
      "metadata": {
        "id": "OMUAGcHwjCjZ"
      },
      "source": [
        "## Exercise 1\n",
        "\n",
        "[4] Define a function `func1(time,amplitude,frequency,phase)` which returns a sine wave (as a function of time) of chosen amplitude, frequency and phase. Test it out with different amplitude, frequency and phase values by plotting suitable graphs. Set the default values for ampliture, frequency and phase to be 1, 1 and 0, respectively."
      ]
    },
    {
      "cell_type": "code",
      "execution_count": 2,
      "metadata": {
        "colab": {
          "base_uri": "https://localhost:8080/",
          "height": 472
        },
        "id": "-XFDb_GxjCjZ",
        "outputId": "671c8483-bbf8-43a4-9edc-44f06106626e"
      },
      "outputs": [
        {
          "output_type": "display_data",
          "data": {
            "text/plain": [
              "<Figure size 640x480 with 1 Axes>"
            ],
            "image/png": "[encoded data removed]"
          },
          "metadata": {}
        }
      ],
      "source": [
        "import matplotlib.pyplot as plt\n",
        "import numpy as np\n",
        "\n",
        "def y(t,a,f,p):\n",
        "  return a*sin(f*t + p)\n",
        "\n",
        "# Generate time values for plotting\n",
        "time_values = np.linspace(0, 10, 100) # Example: from 0 to 10 with 100 points\n",
        "\n",
        "amplitude = 1\n",
        "frequency = 1\n",
        "phase = 0\n",
        "\n",
        "# Calculate corresponding y values\n",
        "y_values = y(time_values, amplitude, frequency, phase)\n",
        "\n",
        "# Plot the sine wave\n",
        "plt.plot(time_values, y_values)\n",
        "plt.xlabel(\"Time\")\n",
        "plt.ylabel(\"Amplitude\")\n",
        "plt.title(\"Sine Wave\")\n",
        "plt.grid(True)\n",
        "plt.show()"
      ]
    },
    {
      "cell_type": "markdown",
      "metadata": {
        "id": "8GxyAOqHjCja"
      },
      "source": [
        "## Exercise 2\n",
        "\n",
        "A satellite has a circular orbit around the Earth with a period $T$.\n",
        "  1. [2] Prove that its altitude $h$ above the Earth‘s surface is ($M$ is Earth’s mass and $R$ its radius):\n",
        "$$h={\\left ( \\frac{GMT^2}{4\\pi^2} \\right )}^{1/3} - R$$\n",
        "    * Write the proof in Markdown in the notebook directly, no need to use python.\n",
        "    * Follow the [markdown guide](https://colab.research.google.com/notebooks/markdown_guide.ipynb) if you need some help with Markdown.\n",
        "    * Do pay particular attention to the `Equations:` section, and the linked [LaTeX/Mathematics](https://en.wikibooks.org/wiki/LaTeX/Mathematics ) wikibook to make nicely formatted equations. You will need this for the assignments.\n",
        "  2. [2] Write a function to evaluate $h$.\n",
        "  3. [2] Write a program that requests user input of $T$ and then prints out the altitude in kilometre\n",
        "  4. [2] Hence find the altitudes of satellites that orbit the Earth once a day (‘geosynchronous’ orbit), once every 90 minutes, and once every 45 minutes. What do you conclude from the last of these calculations?"
      ]
    },
    {
      "cell_type": "markdown",
      "source": [
        "Gravitational Force: The gravitational force between the Earth (mass  M ) and the satellite (mass  m ) is: $$F_g = G \\frac{Mm}{r^2}$$ where $G$ is the gravitational constant and $r$ is the distance from the center of the Earth to the satellite.\n",
        "\n",
        "Centripetal Force: For a satellite in a circular orbit, the gravitational force provides the centripetal force required to keep the satellite in orbit. The centripetal force is given by: $$F_c=mv^2r$$ where  v  is the orbital velocity of the satellite.\n",
        "\n",
        "Equating Forces: By equating the gravitational force and the centripetal force, we get: $$GMm/r^2=mv2r$$ We can cancel out the mass of the satellite ( m ) from both sides:\n",
        "$$GM/r^2=v^2r$$\n",
        "$$v^2=GM/r$$\n",
        "\n",
        "Orbital Velocity and Period: The orbital velocity  v  is the distance traveled in one orbit ( 2πr ) divided by the orbital period  T : $$v = \\frac{2\\pi r}{T}$$ Squaring both sides gives: $$v^2 = \\frac{4\\pi^2 r^2}{T^2}$$\n",
        "\n",
        "Substituting and Solving for r: Now we can substitute the expression for  $v^2$ into the equation: $$\\frac{GM}{r} = \\frac{4\\pi^2 r^2}{T^2}$$ Rearrange the equation to solve for $r^3$: $$GMT^2 = 4\\pi^2 r^3$$ $$r^3 = \\frac{GMT^2}{4\\pi^2}$$ Taking the cube root of both sides gives the distance from the center of the Earth to the satellite: $$r = \\left( \\frac{GMT^2}{4\\pi^2} \\right)^{1/3}$$\n",
        "\n",
        "Altitude: The altitude  h  of the satellite above the Earth's surface is the distance from the center of the Earth minus the Earth's radius  R : $$h = r - R$$ Substituting the expression for $r$ from step 5: $$h = \\left( \\frac{GMT^2}{4\\pi^2} \\right)^{1/3} - R$$\n",
        "\n",
        "This completes the proof for the altitude of a satellite in a circular orbit."
      ],
      "metadata": {
        "id": "la_TKfmFyhCK"
      }
    },
    {
      "cell_type": "code",
      "execution_count": 3,
      "metadata": {
        "id": "TWOxaO7DjCja"
      },
      "outputs": [],
      "source": [
        "def altitude(G,M,T,R):\n",
        "  return ((G*M*T**2)/(4*pi**2))**(1/3)-R"
      ]
    },
    {
      "cell_type": "code",
      "source": [
        "Period_days = float(input(\"Enter a value for time period in days \"))\n",
        "Period_seconds = Period_days * 24 * 60 * 60 # Convert days to seconds\n",
        "\n",
        "constant = 6.67408*(10**-11) # G in m^3 kg^-1 s^-2\n",
        "\n",
        "mass = 5.972*(10**24) # Mass of Earth in kg\n",
        "\n",
        "radius_km = 6371 # Radius of Earth in km\n",
        "radius_m = radius_km * 1000 # Convert radius to meters\n",
        "\n",
        "altitude_m = altitude(constant, mass, Period_seconds, radius_m) # Altitude in meters\n",
        "altitude_km = altitude_m / 1000 # Convert altitude to kilometers\n",
        "\n",
        "print(altitude_km,\"Km\")"
      ],
      "metadata": {
        "colab": {
          "base_uri": "https://localhost:8080/"
        },
        "id": "hrjkiAJZugAy",
        "outputId": "8e63bf31-5784-48fc-9a36-b7683c3ec743"
      },
      "execution_count": 4,
      "outputs": [
        {
          "output_type": "stream",
          "name": "stdout",
          "text": [
            "Enter a value for time period in days 1\n",
            "35869.2342967798 Km\n"
          ]
        }
      ]
    },
    {
      "cell_type": "code",
      "source": [
        "\n",
        "# Time periods in days\n",
        "period_geosynchronous_days = 1*24*3600 # once a day\n",
        "period_90min_days = 90 / (24 * 60) # 90 minutes converted to days\n",
        "period_45min_days = 45 / (24 * 60) # 45 minutes converted to days\n",
        "\n",
        "# Earth parameters (using values from previous cell)\n",
        "G = 6.67408e-11  # m^3 kg^-1 s^-2\n",
        "M = 5.972e24   # kg\n",
        "R_m = 6371000  # meters (converted from km)\n",
        "\n",
        "# Calculate altitudes in meters\n",
        "altitude_geosynchronous_m = altitude(G, M, period_geosynchronous_days, R_m)\n",
        "altitude_90min_m = altitude(G, M, period_90min_days * 24 * 3600, R_m)\n",
        "altitude_45min_m = altitude(G, M, period_45min_days * 24 * 3600, R_m)\n",
        "\n",
        "\n",
        "# Convert altitudes to kilometers\n",
        "altitude_geosynchronous_km = altitude_geosynchronous_m / 1000\n",
        "altitude_90min_km = altitude_90min_m / 1000\n",
        "altitude_45min_km = altitude_45min_m / 1000\n",
        "\n",
        "print(f\"Altitude for geosynchronous orbit (1 day): {altitude_geosynchronous_km:.2f} km\")\n",
        "print(f\"Altitude for 90-minute orbit: {altitude_90min_km:.2f} km\")\n",
        "print(f\"Altitude for 45-minute orbit: {altitude_45min_km:.2f} km\")\n",
        "\n",
        "\n",
        "print(\"\\nConclusion:\")\n",
        "print(\"Based on the calculations, I conclude that the satelite is not able to stay in orbit with a period of 45 minutes\")"
      ],
      "metadata": {
        "colab": {
          "base_uri": "https://localhost:8080/"
        },
        "id": "T9KW_600x4rz",
        "outputId": "e0cef976-af96-4031-a1f1-3518ea582a5e"
      },
      "execution_count": 6,
      "outputs": [
        {
          "output_type": "stream",
          "name": "stdout",
          "text": [
            "Altitude for geosynchronous orbit (1 day): 35869.23 km\n",
            "Altitude for 90-minute orbit: 281.42 km\n",
            "Altitude for 45-minute orbit: -2180.24 km\n",
            "\n",
            "Conclusion:\n",
            "Based on the calculations, I conclude that the satelite is not able to stay in orbit with a period of 45 minutes\n"
          ]
        }
      ]
    },
    {
      "cell_type": "markdown",
      "metadata": {
        "id": "PfbGYIFGjCja"
      },
      "source": [
        "## Exercise 3\n",
        "\n",
        "  1. [4] Write a function `linfit(x,y)` to perform a least squares fit of data using the method described last year in PX1224 week 4 to return estimates of slope and intercept (and their errors).\n",
        "  2. [2] Put your functions into your own package, using a suitable file name. Type the code you want to be in the package (including comments!) in a cell of the notebook, pick a name for the file and add `%%writefile <file_name>.py` at the top of the cell to have the notebook create the file.\n",
        "  3. [2] Test out your package by importing it, defining some test data and plotting a graph of the data and fitted straight line. (Label the axes and give the graph a title.)\n",
        "\n",
        "**IMPORTANT**: The `linfit` function itself must be self contained. It must only take in the x- and y-data, and return m, dm, c and dc. It must not do anything else, such as print or plot data - that should all be done outside the function."
      ]
    },
    {
      "cell_type": "code",
      "metadata": {
        "colab": {
          "base_uri": "https://localhost:8080/"
        },
        "id": "33ccaa03",
        "outputId": "cb4d1fd3-c406-4e86-8b92-358f05d86932"
      },
      "source": [
        "%%writefile fit.py\n",
        "from numpy import sqrt\n",
        "def linfit(x, y):\n",
        "    n = len(x)\n",
        "    sum_x = sum(x)\n",
        "    sum_y = sum(y)\n",
        "    sum_xy = sum(x * y)\n",
        "    sum_x_sq = sum(x**2)\n",
        "    sum_y_sq = sum(y**2)\n",
        "\n",
        "    delta = n * sum_x_sq - sum_x**2\n",
        "\n",
        "    m = (n * sum_xy - sum_x * sum_y) / delta\n",
        "    c = (sum_y * sum_x_sq - sum_x * sum_xy) / delta\n",
        "\n",
        "    # Calculate errors\n",
        "    sigma_y_sq = (sum_y_sq - c * sum_y - m * sum_xy) / (n - 2)\n",
        "    sigma_y = sqrt(sigma_y_sq)\n",
        "\n",
        "    dm = sigma_y * sqrt(n / delta)\n",
        "    dc = sigma_y * sqrt(sum_x_sq / delta)\n",
        "\n",
        "    return m, dm, c, dc"
      ],
      "execution_count": 87,
      "outputs": [
        {
          "output_type": "stream",
          "name": "stdout",
          "text": [
            "Writing fit.py\n"
          ]
        }
      ]
    },
    {
      "cell_type": "code",
      "source": [
        "from fit import linfit\n",
        "\n",
        "x = np.array([0, 0.1, 0.2, 0.4,0.5,0.6,0.8])\n",
        "y = np.array([0.055, 0.074, 0.089, 0.124, 0.135,0.181,0.193])\n",
        "\n",
        "# Call linfit and get the parameters\n",
        "m, dm, c, dc = linfit(x, y)\n",
        "\n",
        "plt.plot(x,y, 'o', label='Data') # Plot data points\n",
        "plt.plot(x, m*x + c, label='Fitted line') # Plot the fitted line\n",
        "plt.xlabel(\"x\")\n",
        "plt.ylabel(\"y\")\n",
        "plt.title(\"Linear Fit\")\n",
        "plt.legend()\n",
        "plt.grid(True)\n",
        "plt.show()\n",
        "\n",
        "# Print the results of the fit\n",
        "print(f\"Slope (m): {m:.4f} +/- {dm:.4f}\")\n",
        "print(f\"Intercept (c): {c:.4f} +/- {dc:.4f}\")"
      ],
      "metadata": {
        "colab": {
          "base_uri": "https://localhost:8080/",
          "height": 507
        },
        "id": "9Cbk6lpDlpMA",
        "outputId": "13f9a769-a483-4034-c336-e1e4f817113c"
      },
      "execution_count": 88,
      "outputs": [
        {
          "output_type": "display_data",
          "data": {
            "text/plain": [
              "<Figure size 640x480 with 1 Axes>"
            ],
            "image/png": "[encoded data removed]"
          },
          "metadata": {}
        },
        {
          "output_type": "stream",
          "name": "stdout",
          "text": [
            "Slope (m): 0.1805 +/- 0.0138\n",
            "Intercept (c): 0.0545 +/- 0.0063\n"
          ]
        }
      ]
    }
  ],
  "metadata": {
    "colab": {
      "name": "Functions.ipynb",
      "provenance": [],
      "include_colab_link": true
    },
    "kernelspec": {
      "display_name": "Python 3",
      "language": "python",
      "name": "python3"
    },
    "language_info": {
      "codemirror_mode": {
        "name": "ipython",
        "version": 3
      },
      "file_extension": ".py",
      "mimetype": "text/x-python",
      "name": "python",
      "nbconvert_exporter": "python",
      "pygments_lexer": "ipython3",
      "version": "3.7.10"
    },
    "latex_metadata": {
      "affiliation": "Cardiff University",
      "author": "Vivien Raymond",
      "title": "Functions"
    }
  },
  "nbformat": 4,
  "nbformat_minor": 0
}